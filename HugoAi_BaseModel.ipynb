{
  "cells": [
    {
      "cell_type": "markdown",
      "metadata": {
        "id": "view-in-github",
        "colab_type": "text"
      },
      "source": [
        "<a href=\"https://colab.research.google.com/github/Hteam121/HugoAi/blob/master/HugoAi_BaseModel.ipynb\" target=\"_parent\"><img src=\"https://colab.research.google.com/assets/colab-badge.svg\" alt=\"Open In Colab\"/></a>"
      ]
    },
    {
      "cell_type": "code",
      "execution_count": null,
      "metadata": {
        "id": "YWIwYYf4cVgP"
      },
      "outputs": [],
      "source": [
        "!python --version\n",
        "\n",
        "!sudo apt-get update -y\n",
        "\n",
        "!sudo apt-get install python3.7\n",
        "\n",
        "!sudo update-alternatives --install /usr/bin/python3 python3 /usr/bin/python3.7 1\n",
        "\n",
        "!sudo update-alternatives --config python3\n",
        "\n",
        "!apt-get install python3-pip\n",
        "\n",
        "!python -m pip install --upgrade pip --user\n",
        "\n",
        "!python --version\n",
        "\n",
        "#Select option 2 to download 3.8.10"
      ]
    },
    {
      "cell_type": "markdown",
      "metadata": {
        "id": "BArwS8eUI0-W"
      },
      "source": [
        "# Kaggle Download"
      ]
    },
    {
      "cell_type": "code",
      "execution_count": null,
      "metadata": {
        "id": "Hj6IzPOarafK"
      },
      "outputs": [],
      "source": [
        "!pip install kaggle"
      ]
    },
    {
      "cell_type": "code",
      "execution_count": null,
      "metadata": {
        "id": "A47d5jKjI8Op"
      },
      "outputs": [],
      "source": [
        "from google.colab import files\n",
        "files.upload()"
      ]
    },
    {
      "cell_type": "code",
      "execution_count": null,
      "metadata": {
        "id": "sV9K8ejjI-tB"
      },
      "outputs": [],
      "source": [
        "!mkdir -p ~/.kaggle\n",
        "!cp kaggle.json ~/.kaggle/\n",
        "!chmod 600 ~/.kaggle/kaggle.json\n",
        "\n",
        "# Replace `your-dataset-name` with the dataset name from Kaggle\n",
        "!kaggle datasets download -d adgarrio/30k-x-ray-sample"
      ]
    },
    {
      "cell_type": "code",
      "execution_count": null,
      "metadata": {
        "id": "X5Sm0KE_JC57"
      },
      "outputs": [],
      "source": [
        "!unzip -q 30k-x-ray-sample.zip #Unzip the dataset on colab environment"
      ]
    },
    {
      "cell_type": "code",
      "execution_count": null,
      "metadata": {
        "id": "a05vNNE3KrXN"
      },
      "outputs": [],
      "source": [
        "import pandas as pd\n",
        "\n",
        "# Read the CSV file\n",
        "df = pd.read_csv('Data_Entry_2017.csv')\n",
        "\n",
        "# Remove rows with ages greater than 101\n",
        "df = df[df['Patient Age'] <= 101]\n",
        "\n",
        "# Save the updated DataFrame to a new CSV file\n",
        "df.to_csv('cleaned_csv_file.csv', index=False)"
      ]
    },
    {
      "cell_type": "code",
      "execution_count": null,
      "metadata": {
        "id": "1iJVKmcNV81A"
      },
      "outputs": [],
      "source": [
        "import os\n",
        "import shutil\n",
        "\n",
        "src_path = Path('/content')\n",
        "dst_path = src_path / 'all_images'\n",
        "dst_path.mkdir(parents=True, exist_ok=True)\n",
        "\n",
        "for i in range(1, 13):\n",
        "    folder_name = f\"images_{str(i).zfill(3)}\"\n",
        "    folder_path = src_path / folder_name / 'images'\n",
        "    for img_file in folder_path.glob('*.*'):\n",
        "        shutil.copy(img_file, dst_path)"
      ]
    },
    {
      "cell_type": "code",
      "execution_count": null,
      "metadata": {
        "id": "JEC9ZQMGXSyy"
      },
      "outputs": [],
      "source": [
        "for i in range(1, 13):\n",
        "    folder_name = f\"images_{str(i).zfill(3)}\"\n",
        "    folder_path = src_path / folder_name\n",
        "    shutil.rmtree(folder_path)"
      ]
    },
    {
      "cell_type": "code",
      "execution_count": null,
      "metadata": {
        "id": "tHLp3ZG3lHgt"
      },
      "outputs": [],
      "source": [
        "import numpy as np\n",
        "import pandas as pd\n",
        "\n",
        "# Load the dataset\n",
        "path = Path('/content')\n",
        "df = pd.read_csv(path / \"Data_Entry_2017.csv\")\n",
        "\n",
        "# Extract unique pathological conditions\n",
        "pathological_conditions = df['Finding Labels'].str.split('|').explode().unique().tolist()\n",
        "\n",
        "print(pathological_conditions)\n",
        "\n",
        "sample_size_per_condition = 7500 // len(pathological_conditions)\n",
        "rows = []\n",
        "\n",
        "for condition in pathological_conditions:\n",
        "    condition_df = df[df['Finding Labels'].str.contains(condition)]\n",
        "    sampled_rows = condition_df.sample(min(sample_size_per_condition, len(condition_df)), random_state=42)\n",
        "    rows.extend(sampled_rows.to_dict('records'))\n",
        "\n",
        "balanced_df = pd.DataFrame(rows)\n",
        "balanced_df = balanced_df.sample(frac=1, random_state=42).reset_index(drop=True)\n",
        "\n",
        "# Save the new balanced dataframe to a CSV file\n",
        "balanced_df.to_csv(path / 'balanced_data_entry.csv', index=False)"
      ]
    },
    {
      "cell_type": "markdown",
      "metadata": {
        "id": "golGhUQqJGTc"
      },
      "source": [
        "# FastAi Model"
      ]
    },
    {
      "cell_type": "code",
      "execution_count": null,
      "metadata": {
        "id": "pyP3-5O5SpxL"
      },
      "outputs": [],
      "source": [
        "from fastai.basics import *\n",
        "from fastai.callback.all import *\n",
        "from fastai.vision.all import *\n",
        "import pandas as pd"
      ]
    },
    {
      "cell_type": "code",
      "execution_count": null,
      "metadata": {
        "id": "B3HfIDdnJgDP"
      },
      "outputs": [],
      "source": [
        "from google.colab import drive\n",
        "drive.mount('/content/gdrive')"
      ]
    },
    {
      "cell_type": "code",
      "execution_count": null,
      "metadata": {
        "id": "1NDlUqFSKkuZ"
      },
      "outputs": [],
      "source": [
        "import pandas as pd\n",
        "from fastai.vision.all import *\n",
        "from fastai.callback.all import *\n",
        "\n",
        "# Load the dataset\n",
        "path = Path('/content/30K-Dataset')\n",
        "df = pd.read_csv(\"/content/updated_30K-Dataset.csv\")\n",
        "\n",
        "def get_x(r): return path/r['Image Index']\n",
        "def get_y(r): return r['Finding Labels'].split('|')\n",
        "dblock = DataBlock(blocks=(ImageBlock, MultiCategoryBlock),\n",
        "    get_x = get_x,\n",
        "    get_y = get_y,\n",
        "    splitter = RandomSplitter(),\n",
        "    batch_tfms = [*aug_transforms(size= 224),Normalize.from_stats(*imagenet_stats)])\n",
        "\n",
        "dls = dblock.dataloaders(df, bs=16)"
      ]
    },
    {
      "cell_type": "code",
      "execution_count": null,
      "metadata": {
        "id": "9fmcFrXtbHF5"
      },
      "outputs": [],
      "source": [
        "dls.show_batch(max_n=16)"
      ]
    },
    {
      "cell_type": "code",
      "execution_count": null,
      "metadata": {
        "colab": {
          "background_save": true
        },
        "id": "UJYvzNOUbGXB"
      },
      "outputs": [],
      "source": [
        "# Train the model\n",
        "learn = cnn_learner(dls,resnet152, metrics=partial(accuracy_multi, thresh=0.55))\n",
        "learn.fine_tune(3, base_lr = 3e-3, freeze_epochs = 4)\n",
        "\n",
        "model_save_path = Path('/content/gdrive/My Drive/colab')\n",
        "model_save_path.mkdir(parents=True, exist_ok=True)\n",
        "learn.save(model_save_path / 'patho_sample_3810_v2.pkl')\n"
      ]
    },
    {
      "cell_type": "code",
      "execution_count": null,
      "metadata": {
        "id": "NM4850uxnX71"
      },
      "outputs": [],
      "source": [
        "!python --version"
      ]
    },
    {
      "cell_type": "code",
      "execution_count": null,
      "metadata": {
        "id": "N71mZIdkOKOB"
      },
      "outputs": [],
      "source": [
        "learn.export(model_save_path / 'pathological_model_3810_v1.pkl')\n"
      ]
    },
    {
      "cell_type": "code",
      "execution_count": null,
      "metadata": {
        "id": "CwLs5hos8EiQ"
      },
      "outputs": [],
      "source": [
        "!pip install Path\n",
        "!pip install fastai"
      ]
    },
    {
      "cell_type": "code",
      "execution_count": null,
      "metadata": {
        "id": "SoBgzQNYIdi_"
      },
      "outputs": [],
      "source": [
        "from pathlib import Path\n",
        "from fastai.vision import load_learner\n",
        "\n",
        "model_path = Path('/content/gdrive/MyDrive/colab/patho_sample_3810_v1.pkl')\n",
        "learn_inf = load_learner(model_path)\n",
        "\n",
        "from PIL import Image\n",
        "\n",
        "img_path = Path(\"/content/00000003_002 (1).png\")\n",
        "img = Image.open(img_path)\n",
        "img.show()\n",
        "\n",
        "preds, _, probs = learn_inf.predict(img)\n",
        "\n",
        "for i, (label, prob) in enumerate(zip(learn_inf.dls.vocab, probs)):\n",
        "    print(f\"{label}: {prob:.4f}\")"
      ]
    }
  ],
  "metadata": {
    "accelerator": "GPU",
    "colab": {
      "provenance": [],
      "authorship_tag": "ABX9TyPsG06md7rGeiGJ1W5eJZGI",
      "include_colab_link": true
    },
    "gpuClass": "standard",
    "kernelspec": {
      "display_name": "Python 3",
      "name": "python3"
    },
    "language_info": {
      "name": "python"
    }
  },
  "nbformat": 4,
  "nbformat_minor": 0
}